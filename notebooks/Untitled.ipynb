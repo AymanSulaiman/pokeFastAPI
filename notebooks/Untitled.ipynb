{
 "cells": [
  {
   "cell_type": "code",
   "execution_count": 6,
   "id": "2f8b1965-04fb-4f80-8135-b13c63d81410",
   "metadata": {},
   "outputs": [],
   "source": [
    "import httpx\n",
    "import json\n",
    "import requests"
   ]
  },
  {
   "cell_type": "code",
   "execution_count": 7,
   "id": "e67868e9-98a5-431d-9877-f5c716be89b8",
   "metadata": {},
   "outputs": [],
   "source": [
    "def get_pokemon_data(pokemon_url):\n",
    "    pokemon_json = httpx.get(pokemon_url).json()\n",
    "\n",
    "    name = pokemon_json['name']\n",
    "\n",
    "    stats = pokemon_json['stats']\n",
    "\n",
    "    sprites = pokemon_json['sprites']\n",
    "\n",
    "    types = pokemon_json['types']\n",
    "\n",
    "    return {\n",
    "        \"name\": name, \n",
    "        \"stats\": stats, \n",
    "        \"sprites\": sprites,\n",
    "        \"types\": types\n",
    "        }\n",
    "\n",
    "\n",
    "geodude = get_pokemon_data(\"https://pokeapi.co/api/v2/pokemon/74/\")"
   ]
  },
  {
   "cell_type": "code",
   "execution_count": 8,
   "id": "6e9cfffa-2117-421c-b6a0-8938b3ed8e41",
   "metadata": {
    "scrolled": true,
    "tags": []
   },
   "outputs": [
    {
     "data": {
      "text/plain": [
       "{'name': 'geodude',\n",
       " 'stats': [{'base_stat': 40,\n",
       "   'effort': 0,\n",
       "   'stat': {'name': 'hp', 'url': 'https://pokeapi.co/api/v2/stat/1/'}},\n",
       "  {'base_stat': 80,\n",
       "   'effort': 0,\n",
       "   'stat': {'name': 'attack', 'url': 'https://pokeapi.co/api/v2/stat/2/'}},\n",
       "  {'base_stat': 100,\n",
       "   'effort': 1,\n",
       "   'stat': {'name': 'defense', 'url': 'https://pokeapi.co/api/v2/stat/3/'}},\n",
       "  {'base_stat': 30,\n",
       "   'effort': 0,\n",
       "   'stat': {'name': 'special-attack',\n",
       "    'url': 'https://pokeapi.co/api/v2/stat/4/'}},\n",
       "  {'base_stat': 30,\n",
       "   'effort': 0,\n",
       "   'stat': {'name': 'special-defense',\n",
       "    'url': 'https://pokeapi.co/api/v2/stat/5/'}},\n",
       "  {'base_stat': 20,\n",
       "   'effort': 0,\n",
       "   'stat': {'name': 'speed', 'url': 'https://pokeapi.co/api/v2/stat/6/'}}],\n",
       " 'sprites': {'back_default': 'https://raw.githubusercontent.com/PokeAPI/sprites/master/sprites/pokemon/back/74.png',\n",
       "  'back_female': None,\n",
       "  'back_shiny': 'https://raw.githubusercontent.com/PokeAPI/sprites/master/sprites/pokemon/back/shiny/74.png',\n",
       "  'back_shiny_female': None,\n",
       "  'front_default': 'https://raw.githubusercontent.com/PokeAPI/sprites/master/sprites/pokemon/74.png',\n",
       "  'front_female': None,\n",
       "  'front_shiny': 'https://raw.githubusercontent.com/PokeAPI/sprites/master/sprites/pokemon/shiny/74.png',\n",
       "  'front_shiny_female': None,\n",
       "  'other': {'dream_world': {'front_default': 'https://raw.githubusercontent.com/PokeAPI/sprites/master/sprites/pokemon/other/dream-world/74.svg',\n",
       "    'front_female': None},\n",
       "   'home': {'front_default': 'https://raw.githubusercontent.com/PokeAPI/sprites/master/sprites/pokemon/other/home/74.png',\n",
       "    'front_female': None,\n",
       "    'front_shiny': 'https://raw.githubusercontent.com/PokeAPI/sprites/master/sprites/pokemon/other/home/shiny/74.png',\n",
       "    'front_shiny_female': None},\n",
       "   'official-artwork': {'front_default': 'https://raw.githubusercontent.com/PokeAPI/sprites/master/sprites/pokemon/other/official-artwork/74.png',\n",
       "    'front_shiny': 'https://raw.githubusercontent.com/PokeAPI/sprites/master/sprites/pokemon/other/official-artwork/shiny/74.png'}},\n",
       "  'versions': {'generation-i': {'red-blue': {'back_default': 'https://raw.githubusercontent.com/PokeAPI/sprites/master/sprites/pokemon/versions/generation-i/red-blue/back/74.png',\n",
       "     'back_gray': 'https://raw.githubusercontent.com/PokeAPI/sprites/master/sprites/pokemon/versions/generation-i/red-blue/back/gray/74.png',\n",
       "     'back_transparent': 'https://raw.githubusercontent.com/PokeAPI/sprites/master/sprites/pokemon/versions/generation-i/red-blue/transparent/back/74.png',\n",
       "     'front_default': 'https://raw.githubusercontent.com/PokeAPI/sprites/master/sprites/pokemon/versions/generation-i/red-blue/74.png',\n",
       "     'front_gray': 'https://raw.githubusercontent.com/PokeAPI/sprites/master/sprites/pokemon/versions/generation-i/red-blue/gray/74.png',\n",
       "     'front_transparent': 'https://raw.githubusercontent.com/PokeAPI/sprites/master/sprites/pokemon/versions/generation-i/red-blue/transparent/74.png'},\n",
       "    'yellow': {'back_default': 'https://raw.githubusercontent.com/PokeAPI/sprites/master/sprites/pokemon/versions/generation-i/yellow/back/74.png',\n",
       "     'back_gray': 'https://raw.githubusercontent.com/PokeAPI/sprites/master/sprites/pokemon/versions/generation-i/yellow/back/gray/74.png',\n",
       "     'back_transparent': 'https://raw.githubusercontent.com/PokeAPI/sprites/master/sprites/pokemon/versions/generation-i/yellow/transparent/back/74.png',\n",
       "     'front_default': 'https://raw.githubusercontent.com/PokeAPI/sprites/master/sprites/pokemon/versions/generation-i/yellow/74.png',\n",
       "     'front_gray': 'https://raw.githubusercontent.com/PokeAPI/sprites/master/sprites/pokemon/versions/generation-i/yellow/gray/74.png',\n",
       "     'front_transparent': 'https://raw.githubusercontent.com/PokeAPI/sprites/master/sprites/pokemon/versions/generation-i/yellow/transparent/74.png'}},\n",
       "   'generation-ii': {'crystal': {'back_default': 'https://raw.githubusercontent.com/PokeAPI/sprites/master/sprites/pokemon/versions/generation-ii/crystal/back/74.png',\n",
       "     'back_shiny': 'https://raw.githubusercontent.com/PokeAPI/sprites/master/sprites/pokemon/versions/generation-ii/crystal/back/shiny/74.png',\n",
       "     'back_shiny_transparent': 'https://raw.githubusercontent.com/PokeAPI/sprites/master/sprites/pokemon/versions/generation-ii/crystal/transparent/back/shiny/74.png',\n",
       "     'back_transparent': 'https://raw.githubusercontent.com/PokeAPI/sprites/master/sprites/pokemon/versions/generation-ii/crystal/transparent/back/74.png',\n",
       "     'front_default': 'https://raw.githubusercontent.com/PokeAPI/sprites/master/sprites/pokemon/versions/generation-ii/crystal/74.png',\n",
       "     'front_shiny': 'https://raw.githubusercontent.com/PokeAPI/sprites/master/sprites/pokemon/versions/generation-ii/crystal/shiny/74.png',\n",
       "     'front_shiny_transparent': 'https://raw.githubusercontent.com/PokeAPI/sprites/master/sprites/pokemon/versions/generation-ii/crystal/transparent/shiny/74.png',\n",
       "     'front_transparent': 'https://raw.githubusercontent.com/PokeAPI/sprites/master/sprites/pokemon/versions/generation-ii/crystal/transparent/74.png'},\n",
       "    'gold': {'back_default': 'https://raw.githubusercontent.com/PokeAPI/sprites/master/sprites/pokemon/versions/generation-ii/gold/back/74.png',\n",
       "     'back_shiny': 'https://raw.githubusercontent.com/PokeAPI/sprites/master/sprites/pokemon/versions/generation-ii/gold/back/shiny/74.png',\n",
       "     'front_default': 'https://raw.githubusercontent.com/PokeAPI/sprites/master/sprites/pokemon/versions/generation-ii/gold/74.png',\n",
       "     'front_shiny': 'https://raw.githubusercontent.com/PokeAPI/sprites/master/sprites/pokemon/versions/generation-ii/gold/shiny/74.png',\n",
       "     'front_transparent': 'https://raw.githubusercontent.com/PokeAPI/sprites/master/sprites/pokemon/versions/generation-ii/gold/transparent/74.png'},\n",
       "    'silver': {'back_default': 'https://raw.githubusercontent.com/PokeAPI/sprites/master/sprites/pokemon/versions/generation-ii/silver/back/74.png',\n",
       "     'back_shiny': 'https://raw.githubusercontent.com/PokeAPI/sprites/master/sprites/pokemon/versions/generation-ii/silver/back/shiny/74.png',\n",
       "     'front_default': 'https://raw.githubusercontent.com/PokeAPI/sprites/master/sprites/pokemon/versions/generation-ii/silver/74.png',\n",
       "     'front_shiny': 'https://raw.githubusercontent.com/PokeAPI/sprites/master/sprites/pokemon/versions/generation-ii/silver/shiny/74.png',\n",
       "     'front_transparent': 'https://raw.githubusercontent.com/PokeAPI/sprites/master/sprites/pokemon/versions/generation-ii/silver/transparent/74.png'}},\n",
       "   'generation-iii': {'emerald': {'front_default': 'https://raw.githubusercontent.com/PokeAPI/sprites/master/sprites/pokemon/versions/generation-iii/emerald/74.png',\n",
       "     'front_shiny': 'https://raw.githubusercontent.com/PokeAPI/sprites/master/sprites/pokemon/versions/generation-iii/emerald/shiny/74.png'},\n",
       "    'firered-leafgreen': {'back_default': 'https://raw.githubusercontent.com/PokeAPI/sprites/master/sprites/pokemon/versions/generation-iii/firered-leafgreen/back/74.png',\n",
       "     'back_shiny': 'https://raw.githubusercontent.com/PokeAPI/sprites/master/sprites/pokemon/versions/generation-iii/firered-leafgreen/back/shiny/74.png',\n",
       "     'front_default': 'https://raw.githubusercontent.com/PokeAPI/sprites/master/sprites/pokemon/versions/generation-iii/firered-leafgreen/74.png',\n",
       "     'front_shiny': 'https://raw.githubusercontent.com/PokeAPI/sprites/master/sprites/pokemon/versions/generation-iii/firered-leafgreen/shiny/74.png'},\n",
       "    'ruby-sapphire': {'back_default': 'https://raw.githubusercontent.com/PokeAPI/sprites/master/sprites/pokemon/versions/generation-iii/ruby-sapphire/back/74.png',\n",
       "     'back_shiny': 'https://raw.githubusercontent.com/PokeAPI/sprites/master/sprites/pokemon/versions/generation-iii/ruby-sapphire/back/shiny/74.png',\n",
       "     'front_default': 'https://raw.githubusercontent.com/PokeAPI/sprites/master/sprites/pokemon/versions/generation-iii/ruby-sapphire/74.png',\n",
       "     'front_shiny': 'https://raw.githubusercontent.com/PokeAPI/sprites/master/sprites/pokemon/versions/generation-iii/ruby-sapphire/shiny/74.png'}},\n",
       "   'generation-iv': {'diamond-pearl': {'back_default': 'https://raw.githubusercontent.com/PokeAPI/sprites/master/sprites/pokemon/versions/generation-iv/diamond-pearl/back/74.png',\n",
       "     'back_female': None,\n",
       "     'back_shiny': 'https://raw.githubusercontent.com/PokeAPI/sprites/master/sprites/pokemon/versions/generation-iv/diamond-pearl/back/shiny/74.png',\n",
       "     'back_shiny_female': None,\n",
       "     'front_default': 'https://raw.githubusercontent.com/PokeAPI/sprites/master/sprites/pokemon/versions/generation-iv/diamond-pearl/74.png',\n",
       "     'front_female': None,\n",
       "     'front_shiny': 'https://raw.githubusercontent.com/PokeAPI/sprites/master/sprites/pokemon/versions/generation-iv/diamond-pearl/shiny/74.png',\n",
       "     'front_shiny_female': None},\n",
       "    'heartgold-soulsilver': {'back_default': 'https://raw.githubusercontent.com/PokeAPI/sprites/master/sprites/pokemon/versions/generation-iv/heartgold-soulsilver/back/74.png',\n",
       "     'back_female': None,\n",
       "     'back_shiny': 'https://raw.githubusercontent.com/PokeAPI/sprites/master/sprites/pokemon/versions/generation-iv/heartgold-soulsilver/back/shiny/74.png',\n",
       "     'back_shiny_female': None,\n",
       "     'front_default': 'https://raw.githubusercontent.com/PokeAPI/sprites/master/sprites/pokemon/versions/generation-iv/heartgold-soulsilver/74.png',\n",
       "     'front_female': None,\n",
       "     'front_shiny': 'https://raw.githubusercontent.com/PokeAPI/sprites/master/sprites/pokemon/versions/generation-iv/heartgold-soulsilver/shiny/74.png',\n",
       "     'front_shiny_female': None},\n",
       "    'platinum': {'back_default': 'https://raw.githubusercontent.com/PokeAPI/sprites/master/sprites/pokemon/versions/generation-iv/platinum/back/74.png',\n",
       "     'back_female': None,\n",
       "     'back_shiny': 'https://raw.githubusercontent.com/PokeAPI/sprites/master/sprites/pokemon/versions/generation-iv/platinum/back/shiny/74.png',\n",
       "     'back_shiny_female': None,\n",
       "     'front_default': 'https://raw.githubusercontent.com/PokeAPI/sprites/master/sprites/pokemon/versions/generation-iv/platinum/74.png',\n",
       "     'front_female': None,\n",
       "     'front_shiny': 'https://raw.githubusercontent.com/PokeAPI/sprites/master/sprites/pokemon/versions/generation-iv/platinum/shiny/74.png',\n",
       "     'front_shiny_female': None}},\n",
       "   'generation-v': {'black-white': {'animated': {'back_default': 'https://raw.githubusercontent.com/PokeAPI/sprites/master/sprites/pokemon/versions/generation-v/black-white/animated/back/74.gif',\n",
       "      'back_female': None,\n",
       "      'back_shiny': 'https://raw.githubusercontent.com/PokeAPI/sprites/master/sprites/pokemon/versions/generation-v/black-white/animated/back/shiny/74.gif',\n",
       "      'back_shiny_female': None,\n",
       "      'front_default': 'https://raw.githubusercontent.com/PokeAPI/sprites/master/sprites/pokemon/versions/generation-v/black-white/animated/74.gif',\n",
       "      'front_female': None,\n",
       "      'front_shiny': 'https://raw.githubusercontent.com/PokeAPI/sprites/master/sprites/pokemon/versions/generation-v/black-white/animated/shiny/74.gif',\n",
       "      'front_shiny_female': None},\n",
       "     'back_default': 'https://raw.githubusercontent.com/PokeAPI/sprites/master/sprites/pokemon/versions/generation-v/black-white/back/74.png',\n",
       "     'back_female': None,\n",
       "     'back_shiny': 'https://raw.githubusercontent.com/PokeAPI/sprites/master/sprites/pokemon/versions/generation-v/black-white/back/shiny/74.png',\n",
       "     'back_shiny_female': None,\n",
       "     'front_default': 'https://raw.githubusercontent.com/PokeAPI/sprites/master/sprites/pokemon/versions/generation-v/black-white/74.png',\n",
       "     'front_female': None,\n",
       "     'front_shiny': 'https://raw.githubusercontent.com/PokeAPI/sprites/master/sprites/pokemon/versions/generation-v/black-white/shiny/74.png',\n",
       "     'front_shiny_female': None}},\n",
       "   'generation-vi': {'omegaruby-alphasapphire': {'front_default': 'https://raw.githubusercontent.com/PokeAPI/sprites/master/sprites/pokemon/versions/generation-vi/omegaruby-alphasapphire/74.png',\n",
       "     'front_female': None,\n",
       "     'front_shiny': 'https://raw.githubusercontent.com/PokeAPI/sprites/master/sprites/pokemon/versions/generation-vi/omegaruby-alphasapphire/shiny/74.png',\n",
       "     'front_shiny_female': None},\n",
       "    'x-y': {'front_default': 'https://raw.githubusercontent.com/PokeAPI/sprites/master/sprites/pokemon/versions/generation-vi/x-y/74.png',\n",
       "     'front_female': None,\n",
       "     'front_shiny': 'https://raw.githubusercontent.com/PokeAPI/sprites/master/sprites/pokemon/versions/generation-vi/x-y/shiny/74.png',\n",
       "     'front_shiny_female': None}},\n",
       "   'generation-vii': {'icons': {'front_default': 'https://raw.githubusercontent.com/PokeAPI/sprites/master/sprites/pokemon/versions/generation-vii/icons/74.png',\n",
       "     'front_female': None},\n",
       "    'ultra-sun-ultra-moon': {'front_default': 'https://raw.githubusercontent.com/PokeAPI/sprites/master/sprites/pokemon/versions/generation-vii/ultra-sun-ultra-moon/74.png',\n",
       "     'front_female': None,\n",
       "     'front_shiny': 'https://raw.githubusercontent.com/PokeAPI/sprites/master/sprites/pokemon/versions/generation-vii/ultra-sun-ultra-moon/shiny/74.png',\n",
       "     'front_shiny_female': None}},\n",
       "   'generation-viii': {'icons': {'front_default': 'https://raw.githubusercontent.com/PokeAPI/sprites/master/sprites/pokemon/versions/generation-viii/icons/74.png',\n",
       "     'front_female': None}}}},\n",
       " 'types': [{'slot': 1,\n",
       "   'type': {'name': 'rock', 'url': 'https://pokeapi.co/api/v2/type/6/'}},\n",
       "  {'slot': 2,\n",
       "   'type': {'name': 'ground', 'url': 'https://pokeapi.co/api/v2/type/5/'}}]}"
      ]
     },
     "execution_count": 8,
     "metadata": {},
     "output_type": "execute_result"
    }
   ],
   "source": [
    "geodude"
   ]
  },
  {
   "cell_type": "code",
   "execution_count": 18,
   "id": "2fa0af4e-6aba-4471-bbb9-eede649d7a43",
   "metadata": {},
   "outputs": [],
   "source": [
    "def get_pokemon_sprite(pokemon_data):\n",
    "    sprite_url = pokemon_data['sprites']['front_default']\n",
    "    response = requests.get(sprite_url)\n",
    "    return response.content if response.status_code == 200 else None\n",
    "\n",
    "def get_pokemon_stats(pokemon_data):\n",
    "    stats = pokemon_data['stats']\n",
    "    stats_dict = {stat['stat']['name']: stat['base_stat'] for stat in stats}\n",
    "    return stats_dict\n",
    "\n",
    "def get_pokemon_types(pokemon_data):\n",
    "    types = pokemon_data['types']\n",
    "    types_list = [typ['type']['name'] for typ in types]\n",
    "    return types_list"
   ]
  },
  {
   "cell_type": "code",
   "execution_count": 19,
   "id": "46ab76bb-1cb4-4f1a-88d4-668eacf57b0b",
   "metadata": {},
   "outputs": [
    {
     "data": {
      "text/plain": [
       "b'\\x89PNG\\r\\n\\x1a\\n\\x00\\x00\\x00\\rIHDR\\x00\\x00\\x00`\\x00\\x00\\x00`\\x04\\x03\\x00\\x00\\x00\\x10\\xb6j\\x0b\\x00\\x00\\x00\\x1ePLTE\\x00\\x00\\x00\\x10\\x10\\x10A91jjR\\x94\\x9c\\x9c\\x9c\\x94\\x83\\xb4\\xb4\\x9c\\xc5\\xd5\\xac\\xcd\\xde\\xcd\\xff\\xff\\xff\\x82,\\x81\\xab\\x00\\x00\\x00\\x01tRNS\\x00@\\xe6\\xd8f\\x00\\x00\\x01\\x94IDAT\\x18\\x19\\xed\\xc11n\\x9c@\\x00\\x05\\xd0\\xbfp\\x01f\\x13VI7`\\rN\\x995a\\xf6\\x0c)\\x07\\xf4\\xb7_\\x10\\x1f\\xa5u\\x14PJw9Br\\xdb\\xac\\xa3\\x14.\\xc0vki\\xdeC\\x14EQ\\x14\\xbduu\\x8d\\xd7KK\\xdch,\\xf0Z\\xe9i.$u{\\xbc\\xd2i\\x91T\\xcb\\xc9\\xe2%\\x89\\x05\\x90.\\xf2\\xaag\\xf5j\\x01\\xd4%\\xb6%~\\xb0@z\\xf1C;\\xcd\\xa2k\\x81zY,6\\xdd\\xce\\xba\\x00\\xbbO\\xef\\xdaV\\xc1\\xb8\\xe6\\x88d\\x9a\\x97\\x16[\\xd2Y^\\x19v\\xdf\\x1er\\x9a\\xf7\\xbf\\xf6\\xac\\xb3j\\x90\\xa6\\xcf\\xd8p\\x9a5\\x8c\\x19\\x92\\x9f\\x0f<\\x7f\\xf8\\xf8\\xbb!\\xb3\\xaa\\x92\\xa6\\xefX\\x97\\xce\\xf2r\\x19n\\x7f|\\x91\\x86\\xaf\\x7f\\x1a\\xf2\\xe8\\xbc\\xbc&\\x8bU\\xa7Y\\x83\\x02\\x92Y\\x8f\\x86\\x86\\xe4]y\\xee\\xa5\\xe9\\x1e\\xabN\\xb3\\x1f\\x9d\\xb3\\x89\\xfe\\x1b\\xc9\\xaag\\xa5A\\xf7X\\x93.\\xeai\\x98\\xed\\xc4\\xbb\\xb2\\xac%\\x92\\x95L#/Y\\xacH\\xa5\\xb1\\xc8\\x99!\\xef$\\x8d\\xd5H\\xb2\\x1d\\xf2\\xbc=_d\\xb1\\xc6\\x0f<\\xe4\\x01\\xd8\\x1f\\xcf\\x12[^U\\x86aO#\\x8b5^F\\x97<\\xc3\\xce\\xf1\\xd1\\r\\xcb\\xe6<8\\xd2\\xb0\\xc7\\xaaDR\\xc3\\x80\\x83\\xe3?%]\\xd7\\xb4\\x8e\\xa4\\xc5\\xbaR\\x1a\\x19vr\\xec\\xea\\xba!\\xd9\\x91\\xa1n\\x18\\xb0\\xa5\\x94F\\xe6l\\xd9\\x90l\\xc8\\xe0\\xd8\\xd2\\x8f\\x196\\x19\\x89\\x81\\xd6\\xf1\\xaac\\xb0\\t{\\x92\\x19\\xb6\\x1dF2 \\xc9y\\x15,P\\x8e\\xec\\x02\\x9e\\x91\\x182\\x00ia\\x8c\\xb1\\x00\\x12\\xc9gxVA\\x8b\\'*]\\xf0\\x02\\x83\\xa7\\x92\"C\\x14EQ\\x14E+\\xfe\\x02\\x93\\xbf}]+\\xc04h\\x00\\x00\\x00\\x00IEND\\xaeB`\\x82'"
      ]
     },
     "execution_count": 19,
     "metadata": {},
     "output_type": "execute_result"
    }
   ],
   "source": [
    "get_pokemon_sprite(geodude)"
   ]
  },
  {
   "cell_type": "code",
   "execution_count": 20,
   "id": "aa316d6d-2fae-4075-85ee-583b96fac0cb",
   "metadata": {},
   "outputs": [
    {
     "data": {
      "text/plain": [
       "{'hp': 40,\n",
       " 'attack': 80,\n",
       " 'defense': 100,\n",
       " 'special-attack': 30,\n",
       " 'special-defense': 30,\n",
       " 'speed': 20}"
      ]
     },
     "execution_count": 20,
     "metadata": {},
     "output_type": "execute_result"
    }
   ],
   "source": [
    "get_pokemon_stats(geodude)"
   ]
  },
  {
   "cell_type": "code",
   "execution_count": 21,
   "id": "55ae5aa8-25f1-415f-9cb7-412185a16af3",
   "metadata": {},
   "outputs": [
    {
     "data": {
      "text/plain": [
       "['rock', 'ground']"
      ]
     },
     "execution_count": 21,
     "metadata": {},
     "output_type": "execute_result"
    }
   ],
   "source": [
    "get_pokemon_types(geodude)"
   ]
  },
  {
   "cell_type": "code",
   "execution_count": null,
   "id": "9c331146-8f3a-4066-8c2c-46816709a7c7",
   "metadata": {},
   "outputs": [],
   "source": []
  }
 ],
 "metadata": {
  "kernelspec": {
   "display_name": "Python 3 (ipykernel)",
   "language": "python",
   "name": "python3"
  },
  "language_info": {
   "codemirror_mode": {
    "name": "ipython",
    "version": 3
   },
   "file_extension": ".py",
   "mimetype": "text/x-python",
   "name": "python",
   "nbconvert_exporter": "python",
   "pygments_lexer": "ipython3",
   "version": "3.10.8"
  }
 },
 "nbformat": 4,
 "nbformat_minor": 5
}
